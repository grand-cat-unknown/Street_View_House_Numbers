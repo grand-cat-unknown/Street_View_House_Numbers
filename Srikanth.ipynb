{
  "nbformat": 4,
  "nbformat_minor": 0,
  "metadata": {
    "colab": {
      "name": "1-Download and Preprocess",
      "provenance": [],
      "collapsed_sections": [],
      "include_colab_link": true
    },
    "kernelspec": {
      "name": "python3",
      "display_name": "Python 3"
    },
    "accelerator": "GPU"
  },
  "cells": [
    {
      "cell_type": "markdown",
      "metadata": {
        "id": "view-in-github",
        "colab_type": "text"
      },
      "source": [
        "<a href=\"https://colab.research.google.com/github/grand-cat-unknown/Street_View_House_Numbers/blob/master/Srikanth.ipynb\" target=\"_parent\"><img src=\"https://colab.research.google.com/assets/colab-badge.svg\" alt=\"Open In Colab\"/></a>"
      ]
    },
    {
      "cell_type": "code",
      "metadata": {
        "id": "R0nToI3eYqUz",
        "colab_type": "code",
        "outputId": "b51da97d-6c30-41e6-a731-92c32c7f710f",
        "colab": {
          "base_uri": "https://localhost:8080/",
          "height": 51
        }
      },
      "source": [
        "##GET DATA\n",
        "!wget -nc http://ufldl.stanford.edu/housenumbers/train.tar.gz \n",
        "!wget -nc http://ufldl.stanford.edu/housenumbers/test.tar.gz \n",
        "!wget -nc http://ufldl.stanford.edu/housenumbers/extra.tar.gz \n",
        "!git clone https://github.com/grand-cat-unknown/Street_View_House_Numbers SVHN\n",
        "\n",
        "##ERROR IMAGES image = cv2.imread('train/30907.png')\n"
      ],
      "execution_count": 0,
      "outputs": [
        {
          "output_type": "stream",
          "text": [
            "File ‘train.tar.gz’ already there; not retrieving.\n",
            "\n"
          ],
          "name": "stdout"
        }
      ]
    },
    {
      "cell_type": "code",
      "metadata": {
        "id": "6-23pJs5xmxe",
        "colab_type": "code",
        "colab": {}
      },
      "source": [
        ""
      ],
      "execution_count": 0,
      "outputs": []
    },
    {
      "cell_type": "code",
      "metadata": {
        "id": "I4Aq772GQNHu",
        "colab_type": "code",
        "colab": {}
      },
      "source": [
        "# from google.colab import files\n",
        "\n",
        "# files.download('train.tar.gz')"
      ],
      "execution_count": 0,
      "outputs": []
    },
    {
      "cell_type": "code",
      "metadata": {
        "id": "QUP6tqG9ZGgB",
        "colab_type": "code",
        "colab": {}
      },
      "source": [
        "##IMPORTS \n",
        "import os\n",
        "import tarfile\n",
        "import numpy as np\n",
        "import h5py\n",
        "import pickle\n",
        "\n",
        "import pickle\n",
        "import cv2\n",
        "import json\n",
        "import glob\n",
        "import natsort  # natural sort (1, 2, 3, 4..., 100), instead of (1, 10, 100, 1000....)\n",
        "from tqdm import tqdm\n",
        "\n",
        "from SVHN.utils.hdf5datasetwriter import HDF5DatasetWriter\n",
        "from SVHN.utils.aspect_aware_resize import AspectAwareResize\n",
        "from SVHN.utils.extract_patch import ExtractPatch\n",
        "\n",
        "import numpy as np\n",
        "import matplotlib.pyplot as plt\n",
        "%matplotlib inline\n",
        "\n",
        "\n",
        "\n",
        "## IMPORT GITHUB\n",
        "\n",
        "if 'train' not in os.listdir():\n",
        "  my_tar = tarfile.open('train.tar.gz')\n",
        "  my_tar.extractall('')\n",
        "  my_tar.close()\n",
        "\n",
        "if 'test' not in os.listdir():\n",
        "  my_tar = tarfile.open('test.tar.gz')\n",
        "  my_tar.extractall('')\n",
        "  my_tar.close()\n",
        "\n",
        "if 'extra' not in os.listdir():\n",
        "  my_tar = tarfile.open('extra.tar.gz')\n",
        "  my_tar.extractall('')\n",
        "  my_tar.close()"
      ],
      "execution_count": 0,
      "outputs": []
    },
    {
      "cell_type": "code",
      "metadata": {
        "id": "ZyaOVrcwdZ58",
        "colab_type": "code",
        "colab": {}
      },
      "source": [
        "\n",
        "def get_box_data(index, hdf5_data):\n",
        "    \"\"\"\n",
        "    get `left, top, width, height` of each picture\n",
        "    :param index:\n",
        "    :param hdf5_data:\n",
        "    :return:\n",
        "    \"\"\"\n",
        "    meta_data = dict()\n",
        "    meta_data['label'] = []\n",
        "    meta_data['top'] = []\n",
        "    meta_data['left'] = []\n",
        "    meta_data['height'] = []\n",
        "    meta_data['width'] = []\n",
        "\n",
        "    def print_attrs(name, obj):\n",
        "        vals = []\n",
        "        if obj.shape[0] == 1:\n",
        "            vals.append(obj[0][0])\n",
        "        else:\n",
        "            for k in range(obj.shape[0]):\n",
        "                vals.append(int(hdf5_data[obj[k][0]][0][0]))\n",
        "        meta_data[name] = vals\n",
        "\n",
        "    box = hdf5_data['/digitStruct/bbox'][index]\n",
        "    hdf5_data[box[0]].visititems(print_attrs)\n",
        "    return meta_data\n",
        "\n",
        "def get_name(index, hdf5_data):\n",
        "    name = hdf5_data[\"/digitStruct/name\"]\n",
        "    print(''.join([chr(v[0]) for v in hdf5_data[name[index][0]].value]))\n",
        "\n"
      ],
      "execution_count": 0,
      "outputs": []
    },
    {
      "cell_type": "code",
      "metadata": {
        "id": "0Dq7y26nRqDx",
        "colab_type": "code",
        "colab": {}
      },
      "source": [
        "from google.colab import drive\n",
        "drive.mount('/content/drive')"
      ],
      "execution_count": 0,
      "outputs": []
    },
    {
      "cell_type": "code",
      "metadata": {
        "id": "PozBd0uKR0nO",
        "colab_type": "code",
        "colab": {}
      },
      "source": [
        "# f = h5py.File('test/digitStruct.mat')"
      ],
      "execution_count": 0,
      "outputs": []
    },
    {
      "cell_type": "code",
      "metadata": {
        "colab_type": "code",
        "id": "5q7nczkbt1HT",
        "colab": {}
      },
      "source": [
        "\n",
        "#MAKE SIZE AS 500\n",
        "\n",
        "if \"metadata.pkl\"  not in os.listdir('/content/drive/My Drive/SVHN/'):\n",
        "  labels_file = \"train/digitStruct.mat\"\n",
        "  f = h5py.File(labels_file)\n",
        "  metadata = []\n",
        "  for j in range(len(os.listdir('train/'))- 3):\n",
        "    print(j)\n",
        "    metadata.append(get_box_data(j, f))\n",
        "  pickle.dump(metadata, open(\"/content/drive/My Drive/SVHN/metadata.pkl\", \"wb\"))\n",
        "\n",
        "if \"metadata_test.pkl\" not in os.listdir('/content/drive/My Drive/SVHN/'):\n",
        "  labels_file = \"test/digitStruct.mat\"\n",
        "  f = h5py.File(labels_file)\n",
        "  metadata_test = []\n",
        "  for j in range(len(os.listdir('test/'))- 3):\n",
        "    print(j)\n",
        "    metadata_test.append(get_box_data(j, f))\n",
        "  pickle.dump(metadata_test, open(\"/content/drive/My Drive/SVHN/metadata_test.pkl\", \"wb\"))\n",
        "\n",
        "\n",
        "if \"metadata_extra.pkl\" not in os.listdir('/content/drive/My Drive/SVHN/'):\n",
        "  labels_file = \"extra/digitStruct.mat\"\n",
        "  f = h5py.File(labels_file)\n",
        "  metadata_extra = []\n",
        "  for j in range(30000):\n",
        "    print(j)\n",
        "    metadata_extra.append(get_box_data(j, f))\n",
        "  pickle.dump(metadata_extra, open(\"/content/drive/My Drive/SVHN/metadata_extra.pkl\", \"wb\"))\n",
        "\n"
      ],
      "execution_count": 0,
      "outputs": []
    },
    {
      "cell_type": "code",
      "metadata": {
        "id": "0-jJKx9YCIaN",
        "colab_type": "code",
        "colab": {}
      },
      "source": [
        "metadata = pickle.load(open('/content/drive/My Drive/SVHN/metadata.pkl','rb'))\n",
        "metadata_test = pickle.load(open('/content/drive/My Drive/SVHN/metadata_test.pkl','rb'))\n",
        "metadata_extra = pickle.load(open('/content/drive/My Drive/SVHN/metadata_extra.pkl','rb'))\n",
        "\n",
        "# metadata[20]"
      ],
      "execution_count": 0,
      "outputs": []
    },
    {
      "cell_type": "code",
      "metadata": {
        "id": "xMC-WJ4zt22-",
        "colab_type": "code",
        "colab": {}
      },
      "source": [
        "##ONLY A FEW EXIST\n",
        "for j, i in enumerate(range(len(os.listdir('train/'))- 3)):\n",
        "    t = len(metadata[i][\"label\"])\n",
        "    if t >= 5:\n",
        "        print(j, t)"
      ],
      "execution_count": 0,
      "outputs": []
    },
    {
      "cell_type": "code",
      "metadata": {
        "id": "5P8PUxoKjG4L",
        "colab_type": "code",
        "colab": {}
      },
      "source": [
        "final_labels = []\n",
        "\n",
        "metadata = pickle.load(open(\"/content/drive/My Drive/SVHN/metadata.pkl\", \"rb\"))\n",
        "for i in range(len(os.listdir('train/'))- 5):\n",
        "    t = metadata[i][\"label\"]\n",
        "    temp_label = [int(x) for x in t]\n",
        "    dt = len(temp_label) - 5\n",
        "    if dt < 0:\n",
        "        for ii in range(abs(dt)):\n",
        "            temp_label.append(11)\n",
        "    if dt > 0:\n",
        "        del temp_label[-1]\n",
        "    tt = len(t) if len(t)< 6 else 5\n",
        "    temp_label.append(tt)\n",
        "    final_labels.append(temp_label)\n",
        "y = np.array(final_labels)\n",
        "pickle.dump(y, open(\"/content/drive/My Drive/SVHN/svhn_labels.pkl\", \"wb\"))\n",
        "\n",
        "\n",
        "metadata_test = pickle.load(open(\"/content/drive/My Drive/SVHN/metadata_test.pkl\", \"rb\"))\n",
        "\n",
        "final_labels_test = []\n",
        "for i in range(len(os.listdir('test/'))- 5):\n",
        "    t = metadata_test[i][\"label\"]\n",
        "    temp_label = [int(x) for x in t]\n",
        "    dt = len(temp_label) - 5\n",
        "    if dt < 0:\n",
        "        for ii in range(abs(dt)):\n",
        "            temp_label.append(11)\n",
        "    if dt > 0:\n",
        "        del temp_label[-1]\n",
        "    tt = len(t) if len(t)< 6 else 5\n",
        "    temp_label.append(tt)\n",
        "    final_labels_test.append(temp_label)\n",
        "\n",
        "y_test = np.array(final_labels_test)\n",
        "pickle.dump(y_test, open(\"/content/drive/My Drive/SVHN/svhn_labels_test.pkl\", \"wb\"))\n",
        "\n",
        "\n",
        "metadata_extra = pickle.load(open(\"/content/drive/My Drive/SVHN/metadata_extra.pkl\", \"rb\"))\n",
        "\n",
        "final_labels_extra = []\n",
        "for i in range(30000):\n",
        "    t = metadata_extra[i][\"label\"]\n",
        "    temp_label = [int(x) for x in t]\n",
        "    dt = len(temp_label) - 5\n",
        "    if dt < 0:\n",
        "        for ii in range(abs(dt)):\n",
        "            temp_label.append(11)\n",
        "    if dt > 0:\n",
        "        del temp_label[-1]\n",
        "    tt = len(t) if len(t)< 6 else 5\n",
        "    temp_label.append(tt)\n",
        "    final_labels_extra.append(temp_label)\n",
        "\n",
        "y_extra = np.array(final_labels_extra)\n",
        "pickle.dump(y_extra, open(\"/content/drive/My Drive/SVHN/svhn_labels_extra.pkl\", \"wb\"))"
      ],
      "execution_count": 0,
      "outputs": []
    },
    {
      "cell_type": "code",
      "metadata": {
        "id": "rLVS4h6bQVD5",
        "colab_type": "code",
        "colab": {}
      },
      "source": [
        "len(metadata_extra)"
      ],
      "execution_count": 0,
      "outputs": []
    },
    {
      "cell_type": "code",
      "metadata": {
        "id": "Wp3T0xUWsLBi",
        "colab_type": "code",
        "colab": {}
      },
      "source": [
        "image_paths = natsort.natsorted(glob.glob(\"train/*.png\"))\n",
        "test_paths = natsort.natsorted(glob.glob(\"test/*.png\"))\n",
        "extra_paths = natsort.natsorted(glob.glob(\"extra/*.png\"))\n",
        "\n",
        "metadata = pickle.load(open(\"/content/drive/My Drive/SVHN/metadata.pkl\", \"rb\"))\n",
        "labels = pickle.load(open(\"/content/drive/My Drive/SVHN/svhn_labels.pkl\", \"rb\"))\n",
        "metadata_test = pickle.load(open(\"/content/drive/My Drive/SVHN/metadata_test.pkl\", \"rb\"))\n",
        "labels_test = pickle.load(open(\"/content/drive/My Drive/SVHN/svhn_labels_test.pkl\", \"rb\"))\n",
        "\n",
        "metadata_extra = pickle.load(open(\"/content/drive/My Drive/SVHN/metadata_extra.pkl\", \"rb\"))\n",
        "labels_extra = pickle.load(open(\"/content/drive/My Drive/SVHN/svhn_labels_extra.pkl\", \"rb\"))\n"
      ],
      "execution_count": 0,
      "outputs": []
    },
    {
      "cell_type": "code",
      "metadata": {
        "id": "HYZT6lwWC3mF",
        "colab_type": "code",
        "colab": {}
      },
      "source": [
        "# sl = glob.glob(\"test/*.png\")[:]\n",
        "# natsort.natsorted(sl)\n",
        "labels_test[0]"
      ],
      "execution_count": 0,
      "outputs": []
    },
    {
      "cell_type": "code",
      "metadata": {
        "id": "6H1gJPB1_p0n",
        "colab_type": "code",
        "colab": {}
      },
      "source": [
        "# natsort.natsorted(glob.glob(\"test/*.png\"))"
      ],
      "execution_count": 0,
      "outputs": []
    },
    {
      "cell_type": "code",
      "metadata": {
        "id": "DPrA8OPasqiN",
        "colab_type": "code",
        "colab": {}
      },
      "source": [
        "def crop_bbox(img, metadata):\n",
        "    shape = img.shape[:2]\n",
        "    # print(shape)\n",
        "    x = int(min(metadata[\"left\"]))\n",
        "    y = int(min(metadata[\"top\"]))\n",
        "    w = int(metadata[\"left\"][-1] + metadata[\"width\"][-1])\n",
        "    h = int(max(metadata[\"top\"]) + max(metadata[\"height\"]))\n",
        "    # print (x,y,w,h)\n",
        "    dW = int(0.15*(w-x))\n",
        "    dH = int(0.15*(h-y))\n",
        "    \n",
        "    x = 0 if (x - dW) < 0 else (x - dW)\n",
        "    y = 0 if (y - dH) < 0 else (y - dH)\n",
        "    w = shape[1] if (w + dW) > shape[1] else (w + dW)\n",
        "    h = shape[0] if (h + dH) > shape[0] else (h + dH)\n",
        "    # print (x,y,w,h)\n",
        "    cropped = img[y:h, x:w]\n",
        "\n",
        "    if cropped.shape[0] == 0 or cropped.shape[1] ==0:\n",
        "      cropped = img\n",
        "    # print(cropped.shape)\n",
        "    return cv2.resize(cropped, (64, 64))"
      ],
      "execution_count": 0,
      "outputs": []
    },
    {
      "cell_type": "code",
      "metadata": {
        "id": "O69DEhOEvQeC",
        "colab_type": "code",
        "colab": {}
      },
      "source": [
        "plt.figure(figsize=(20, 8))\n",
        "import random\n",
        "\n",
        "# x = random.randrange(7000)\n",
        "x= 0\n",
        "print(test_paths)\n",
        "\n",
        "for idx, i in enumerate(range(x, x+32)):\n",
        "    img = cv2.imread(test_paths[i])\n",
        "    md = metadata_test[i]\n",
        "    \n",
        "    bb = crop_bbox(img, md)\n",
        "    \n",
        "    plt.subplot(4, 8, idx+1)\n",
        "    plt.title(labels_test[i])\n",
        "    plt.imshow(cv2.cvtColor(bb, cv2.COLOR_BGR2RGB))\n",
        "    plt.axis(\"off\")\n",
        "    \n",
        "plt.show()"
      ],
      "execution_count": 0,
      "outputs": []
    },
    {
      "cell_type": "code",
      "metadata": {
        "id": "JpsHw0fyvSeA",
        "colab_type": "code",
        "colab": {}
      },
      "source": [
        "Ptr, ytr, metatr = image_paths[:-2500], labels[:-2500], metadata[:-2500]\n",
        "Pval, yval, metaval = image_paths[-2500:], labels[-2500:], metadata[-2500:]"
      ],
      "execution_count": 0,
      "outputs": []
    },
    {
      "cell_type": "code",
      "metadata": {
        "id": "yiu7bAk-s2g3",
        "colab_type": "code",
        "colab": {}
      },
      "source": [
        "os.listdir(\"/content/drive/My Drive/SVHN/classify\")\n"
      ],
      "execution_count": 0,
      "outputs": []
    },
    {
      "cell_type": "code",
      "metadata": {
        "id": "8QVBZp_YyrVc",
        "colab_type": "code",
        "colab": {}
      },
      "source": [
        "R, G, B = [], [], []\n",
        "\n",
        "\n",
        "if 'train.hdf5' not in os.listdir(\"/content/drive/My Drive/SVHN/classify\"):\n",
        "\n",
        "  !rm classify/train.hdf5\n",
        "  !rm classify/val.hdf5\n",
        "  !rm classify/test.hdf5\n",
        "  !mkdir /content/drive/My\\ Drive/SVHN/classify\n",
        "  !mkdir classify\n",
        "  datasets = [(\"train\", Ptr, ytr, metatr, \"classify/train.hdf5\"),\n",
        "            (\"val\", Pval, yval, metaval, \"classify/val.hdf5\"),\n",
        "              (\"test\", test_paths, labels_test, metadata_test, \"classify/test.hdf5\")]\n",
        "\n",
        "\n",
        "  for (dtype, paths, labels, metas, outputs) in datasets:\n",
        "      writer = HDF5DatasetWriter((len(paths), 64, 64, 3), outputs)\n",
        "      # print(dtype)\n",
        "      t = tqdm(zip(paths, labels, metas))\n",
        "      for (path, label, meta) in t:\n",
        "          # print(path)\n",
        "          image = cv2.imread(path)\n",
        "          image = crop_bbox(image, meta)\n",
        "          \n",
        "          if dtype == \"train\":\n",
        "              (b, g, r) = cv2.mean(image)[:3]\n",
        "              R.append(r)\n",
        "              G.append(g)\n",
        "              B.append(b)\n",
        "              \n",
        "          writer.add([image], [label])\n",
        "      writer.close()\n",
        "  !cp classify/train.hdf5 /content/drive/My\\ Drive/SVHN/classify/train.hdf5\n",
        "  print('copied train')\n",
        "  !cp classify/test.hdf5 /content/drive/My\\ Drive/SVHN/classify/test.hdf5\n",
        "  print('copied test')\n",
        "  !cp classify/val.hdf5 /content/drive/My\\ Drive/SVHN/classify/val.hdf5\n",
        "  print('copied val')\n",
        "\n",
        "  \n",
        "\n",
        "if 'extra.hdf5' not in os.listdir(\"/content/drive/My Drive/SVHN/classify\"):\n",
        "  !rm classify/extra.hdf5\n",
        "  writer = HDF5DatasetWriter((30000, 64, 64, 3), \"classify/extra.hdf5\")\n",
        "  t = tqdm(zip(extra_paths, labels_extra, metadata_extra))\n",
        "  for (path, label, meta) in t:\n",
        "      image = cv2.imread(path)\n",
        "      image = crop_bbox(image, meta)\n",
        "\n",
        "      (b, g, r) = cv2.mean(image)[:3]\n",
        "      R.append(r)\n",
        "      G.append(g)\n",
        "      B.append(b)\n",
        "\n",
        "      writer.add([image], [label])\n",
        "  writer.close()\n",
        "  !cp classify/extra.hdf5 /content/drive/My\\ Drive/SVHN/classify/extra.hdf5\n",
        "\n",
        "\n",
        "\n",
        "# M = {\"R\": np.mean(R), \"G\": np.mean(G), \"B\": np.mean(B)}\n",
        "# pickle.dump(M, open(\"/content/drive/My Drive/SVHN/rgb_means.pkl\", \"wb\"))"
      ],
      "execution_count": 0,
      "outputs": []
    },
    {
      "cell_type": "code",
      "metadata": {
        "id": "br_UeiDvSto7",
        "colab_type": "code",
        "colab": {}
      },
      "source": [
        "X = pickle.load(open(\"/content/drive/My Drive/SVHN/rgb_means.pkl\", \"rb\"))\n",
        "M = {\"R\": np.mean(R)+ X['R'], \"G\": np.mean(G) + X['G'] , \"B\": np.mean(B) + X['B']}\n",
        "pickle.dump(M, open(\"/content/drive/My Drive/SVHN/rgb_means.pkl\", \"wb\"))"
      ],
      "execution_count": 0,
      "outputs": []
    },
    {
      "cell_type": "code",
      "metadata": {
        "id": "q1yopPezmUuN",
        "colab_type": "code",
        "colab": {}
      },
      "source": [
        "%tensorflow_version 1.x \n",
        "import h5py\n",
        "from keras.utils.np_utils import to_categorical"
      ],
      "execution_count": 0,
      "outputs": []
    },
    {
      "cell_type": "code",
      "metadata": {
        "id": "qozRTyMDgup-",
        "colab_type": "code",
        "colab": {}
      },
      "source": [
        "%tensorflow_version 1.x \n",
        "from SVHN.model import SVHNNet\n",
        "import pickle\n",
        "import numpy as np\n",
        "import cv2\n",
        "from SVHN.utils.extract_patch import ExtractPatch\n",
        "from SVHN.utils.mean_subtract import MeanSubtract\n",
        "from SVHN.utils.generator import Generator\n",
        "\n",
        "from keras.optimizers import Adam\n",
        "from keras.callbacks import LearningRateScheduler\n",
        "from keras.callbacks import TensorBoard\n",
        "from keras.callbacks import EarlyStopping\n",
        "\n",
        "import matplotlib.pyplot as plt\n",
        "%matplotlib inline"
      ],
      "execution_count": 0,
      "outputs": []
    },
    {
      "cell_type": "code",
      "metadata": {
        "id": "oYL1zPJagzpy",
        "colab_type": "code",
        "colab": {}
      },
      "source": [
        "width = 54\n",
        "height = 54\n",
        "depth = 3\n",
        "classes = 11\n",
        "BS = 64\n",
        "epochs = 50"
      ],
      "execution_count": 0,
      "outputs": []
    },
    {
      "cell_type": "code",
      "metadata": {
        "id": "OcciekMChBeR",
        "colab_type": "code",
        "colab": {}
      },
      "source": [
        "model = SVHNNet.build(height, width, depth, classes)\n",
        "model.summary()"
      ],
      "execution_count": 0,
      "outputs": []
    },
    {
      "cell_type": "code",
      "metadata": {
        "id": "YCLc21-7hJki",
        "colab_type": "code",
        "colab": {}
      },
      "source": [
        "means = pickle.load(open(\"/content/drive/My Drive/SVHN/rgb_means.pkl\", \"rb\"))\n",
        "\n",
        "ep = ExtractPatch(width, height)\n",
        "ms = MeanSubtract(means[\"R\"], means[\"G\"], means[\"B\"])\n",
        "preprocessors = [ep, ms]\n",
        "\n",
        "def exp_decay(epoch):\n",
        "    initial_lrate = 0.001\n",
        "    k = 0.1\n",
        "    lrate = initial_lrate * np.exp(-k*epoch)\n",
        "    \n",
        "    return lrate"
      ],
      "execution_count": 0,
      "outputs": []
    },
    {
      "cell_type": "code",
      "metadata": {
        "id": "d25PoX2XhNQG",
        "colab_type": "code",
        "colab": {}
      },
      "source": [
        "# model = load_model(\"/content/drive/My Drive/SVHN/svhn.h5\")\n",
        "opt = Adam(lr=0.0005)\n",
        "model.compile(loss=\"categorical_crossentropy\", optimizer=opt, metrics=[\"accuracy\"])\n",
        "callbacks = [TensorBoard(\"logs\", batch_size=BS, write_images=True),\n",
        "            LearningRateScheduler(exp_decay)]"
      ],
      "execution_count": 0,
      "outputs": []
    },
    {
      "cell_type": "code",
      "metadata": {
        "id": "G-L8Auijvjb6",
        "colab_type": "code",
        "colab": {}
      },
      "source": [
        "# import h5py\n",
        "# filename = '/content/drive/My Drive/SVHN/classify/val.hdf5'\n",
        "\n",
        "# with h5py.File(filename, 'r') as f:\n",
        "#     # List all groups\n",
        "#     print(\"Keys: %s\" % f.keys())\n",
        "#     a_group_key = list(f.keys())[1]\n",
        "\n",
        "#     # Get the data\n",
        "#     data = list(f[a_group_key])\n",
        "#     print(data[0])"
      ],
      "execution_count": 0,
      "outputs": []
    },
    {
      "cell_type": "code",
      "metadata": {
        "id": "w6WrlsVahO8I",
        "colab_type": "code",
        "colab": {}
      },
      "source": [
        "# !mkdir classify\n",
        "# if 'train' not in os.listdir('classify/'):\n",
        "#   !cp  /content/drive/My\\ Drive/SVHN/classify/train.hdf5 classify/train.hdf5\n",
        "#   !cp  /content/drive/My\\ Drive/SVHN/classify/test.hdf5 classify/test.hdf5\n",
        "#   !cp  /content/drive/My\\ Drive/SVHN/classify/val.hdf5 classify/val.hdf5\n",
        "extra_gen = Generator(\"/content/drive/My Drive/SVHN/classify/extra.hdf5\", BS, epochs, preprocessors)\n",
        "train_gen = Generator(\"/content/drive/My Drive/SVHN/classify/train.hdf5\", BS, epochs, preprocessors)\n",
        "val_gen = Generator(\"/content/drive/My Drive/SVHN/classify/val.hdf5\", BS, epochs, preprocessors)\n",
        "\n",
        "# callbacks, add in earlystopping\n",
        "callbacks = [TensorBoard(\"logs\", batch_size=BS, write_images=True),\n",
        "            LearningRateScheduler(exp_decay),\n",
        "            EarlyStopping(monitor=\"val_loss\", min_delta=0.05, patience=20)]"
      ],
      "execution_count": 0,
      "outputs": []
    },
    {
      "cell_type": "code",
      "metadata": {
        "id": "TDE2R5PRhXdC",
        "colab_type": "code",
        "colab": {}
      },
      "source": [
        "H = model.fit_generator(extra_gen.generate(), steps_per_epoch=extra_gen.n_img//BS,\n",
        "                         epochs=10, callbacks=callbacks)"
      ],
      "execution_count": 0,
      "outputs": []
    },
    {
      "cell_type": "code",
      "metadata": {
        "id": "1Vt5sw8czMSp",
        "colab_type": "code",
        "colab": {}
      },
      "source": [
        "model.save(\"/content/drive/My Drive/SVHN/svhn.h5\")\n",
        "model.save_weights(\"/content/drive/My Drive/SVHN/weights_model.h5\")\n",
        "H = model.fit_generator(train_gen.generate(), validation_data=val_gen.generate(), steps_per_epoch=train_gen.n_img//BS,\n",
        "                        validation_steps=val_gen.n_img//BS, epochs=10, callbacks=callbacks)"
      ],
      "execution_count": 0,
      "outputs": []
    },
    {
      "cell_type": "code",
      "metadata": {
        "id": "zKpRuXQXiEYj",
        "colab_type": "code",
        "colab": {}
      },
      "source": [
        "model.save(\"/content/drive/My Drive/SVHN/svhn.h5\")\n",
        "model.save_weights(\"/content/drive/My Drive/SVHN/weights_model.h5\")\n",
        "H = model.fit_generator(train_gen.generate(), validation_data=val_gen.generate(), steps_per_epoch=train_gen.n_img//BS,\n",
        "                        validation_steps=val_gen.n_img//BS, epochs=30, callbacks=callbacks)"
      ],
      "execution_count": 0,
      "outputs": []
    },
    {
      "cell_type": "code",
      "metadata": {
        "id": "Z3uJ0OCTIpLk",
        "colab_type": "code",
        "colab": {}
      },
      "source": [
        "# from google.colab import files\n",
        "# files.download('svhn.h5') "
      ],
      "execution_count": 0,
      "outputs": []
    },
    {
      "cell_type": "code",
      "metadata": {
        "id": "gdLVXv16iTwi",
        "colab_type": "code",
        "colab": {}
      },
      "source": [
        "%tensorflow_version 1.x\n",
        "from keras.models import load_model\n",
        "\n",
        "import pickle\n",
        "import cv2\n",
        "import h5py\n",
        "import glob\n",
        "import numpy as np\n",
        "import natsort\n",
        "\n",
        "from SVHN.utils.generator import Generator\n",
        "from SVHN.utils.simple_resize import SimpleResize\n",
        "from SVHN.utils.mean_subtract import MeanSubtract\n",
        "\n",
        "from sklearn.metrics import accuracy_score\n",
        "import matplotlib.pyplot as plt\n",
        "%matplotlib inline"
      ],
      "execution_count": 0,
      "outputs": []
    },
    {
      "cell_type": "code",
      "metadata": {
        "id": "04gktTRZ8cOS",
        "colab_type": "code",
        "colab": {}
      },
      "source": [
        "\n",
        "# model = load_model(\"svhn.h5\")\n",
        "\n",
        "# model= load_model(\"/content/drive/My Drive/SVHN/svhn.h5\")\n",
        "# model.load_weights(\"/content/drive/My Drive/SVHN/weights_model.h5\")\n",
        "\n",
        "\n",
        "with h5py.File(\"/content/drive/My Drive/SVHN/classify/test.hdf5\", \"r\") as f:\n",
        "    labels = f[\"labels\"][()]\n",
        "# print((labels)[-10:])\n",
        "means = pickle.load(open(\"/content/drive/My Drive/SVHN/rgb_means.pkl\", \"rb\"))\n",
        "sr = SimpleResize(54, 54)\n",
        "ms = MeanSubtract(means[\"R\"], means[\"G\"], means[\"B\"])\n",
        "preprocessors = [sr, ms]\n",
        "gen = Generator(\"/content/drive/My Drive/SVHN/classify/test.hdf5\", BS, 1, preprocessors)"
      ],
      "execution_count": 0,
      "outputs": []
    },
    {
      "cell_type": "code",
      "metadata": {
        "id": "CBrbXbzTCn9i",
        "colab_type": "code",
        "colab": {}
      },
      "source": [
        "predictions = model.predict_generator(gen.generate(), steps=(gen.n_img//BS)+1) #steps+1 because not enough steps to loop all data\n",
        "gen.close()"
      ],
      "execution_count": 0,
      "outputs": []
    },
    {
      "cell_type": "code",
      "metadata": {
        "id": "CFylUp4czpgH",
        "colab_type": "code",
        "colab": {}
      },
      "source": [
        "np.argmax(predictions[0], axis=-1)\n"
      ],
      "execution_count": 0,
      "outputs": []
    },
    {
      "cell_type": "code",
      "metadata": {
        "id": "_6DtJtQzJT_0",
        "colab_type": "code",
        "colab": {}
      },
      "source": [
        "accuracy = 0.0\n",
        "print(\"Accuracies for every digits:\")\n",
        "for i in range(6):\n",
        "    pred = predictions[i]\n",
        "    pred = np.argmax(pred, axis=-1)\n",
        "    label = labels[:, i]\n",
        "    \n",
        "    acc = accuracy_score(label, pred)\n",
        "    \n",
        "    if i != 5:\n",
        "        print(\"Digit {}: {:.2f}\".format(i+1, acc))\n",
        "    else:\n",
        "        print(\"Sequence length: {:.2f}\\n\".format(acc))\n",
        "        \n",
        "    accuracy += acc\n",
        "        \n",
        "print(\"Overall accuracy: {:.2f}\".format(accuracy/6))"
      ],
      "execution_count": 0,
      "outputs": []
    },
    {
      "cell_type": "code",
      "metadata": {
        "id": "oFCK0cJxJY93",
        "colab_type": "code",
        "colab": {}
      },
      "source": [
        "%matplotlib inline\n",
        "\n",
        "test_paths = natsort.natsorted(glob.glob(\"test/*.png\"))\n",
        "\n",
        "idxs = np.random.choice(len(test_paths), size=32)\n",
        "\n",
        "plt.figure(figsize=(20, 8))\n",
        "for n, i in enumerate(idxs):\n",
        "    img = cv2.imread(test_paths[i])\n",
        "    \n",
        "    pred = []\n",
        "    for p in predictions:\n",
        "        temp = np.argmax(p, axis=-1)\n",
        "        pred.append(temp[i])\n",
        "        \n",
        "    plt.subplot(4, 8, n+1)\n",
        "    plt.imshow(cv2.cvtColor(img, cv2.COLOR_BGR2RGB))\n",
        "    plt.axis(\"off\")\n",
        "    plt.title(pred)\n",
        "    \n",
        "plt.show()"
      ],
      "execution_count": 0,
      "outputs": []
    },
    {
      "cell_type": "code",
      "metadata": {
        "id": "tcuBkNzAJf3q",
        "colab_type": "code",
        "colab": {}
      },
      "source": [
        ""
      ],
      "execution_count": 0,
      "outputs": []
    }
  ]
}